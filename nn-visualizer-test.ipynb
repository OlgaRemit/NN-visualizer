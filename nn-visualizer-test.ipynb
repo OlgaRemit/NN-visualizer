{
 "cells": [
  {
   "cell_type": "code",
   "execution_count": 1,
   "id": "a7938378",
   "metadata": {},
   "outputs": [],
   "source": [
    "from trainer.trainer import Trainer\n",
    "from model.model import Model\n",
    "from dataset.dataset import Dataset\n",
    "from loader.generator import LinearGenerator2D"
   ]
  },
  {
   "cell_type": "code",
   "execution_count": 2,
   "id": "62053088",
   "metadata": {},
   "outputs": [],
   "source": [
    "model = Model([2, 4, 4, 1])"
   ]
  },
  {
   "cell_type": "code",
   "execution_count": 3,
   "id": "72b231d5",
   "metadata": {},
   "outputs": [],
   "source": [
    "train_dataset = Dataset(LinearGenerator2D(0, 100), batch_size=8)\n",
    "val_dataset = Dataset(LinearGenerator2D(0, 100), batch_size=8)"
   ]
  },
  {
   "cell_type": "code",
   "execution_count": 8,
   "id": "2fd3fa83",
   "metadata": {},
   "outputs": [],
   "source": [
    "trainer = Trainer(10, train_dataset, val_dataset, model)"
   ]
  },
  {
   "cell_type": "code",
   "execution_count": 9,
   "id": "568f2702",
   "metadata": {},
   "outputs": [
    {
     "name": "stdout",
     "output_type": "stream",
     "text": [
      "Start train\n",
      "Epoch 1\n",
      "Mean train loss: 0.023883377580764666, val loss: 0.018730346185083572\n",
      "Epoch 2\n",
      "Mean train loss: 0.00974326256590967, val loss: 0.020721207910145704\n",
      "Epoch 3\n",
      "Mean train loss: 0.005919530325067731, val loss: 0.006161312021924039\n",
      "Epoch 4\n",
      "Mean train loss: 0.0032770994293969125, val loss: 0.009249105136125134\n",
      "Epoch 5\n",
      "Mean train loss: 0.0028873347081781295, val loss: 0.004452700770903343\n",
      "Epoch 6\n",
      "Mean train loss: 0.0008271960236575418, val loss: 0.006307779715056173\n",
      "Epoch 7\n",
      "Mean train loss: 0.0007968608204884311, val loss: 0.007034562107247229\n",
      "Epoch 8\n",
      "Mean train loss: 0.0007232408472471154, val loss: 0.005406897429985782\n",
      "Epoch 9\n",
      "Mean train loss: 0.0005450960782652076, val loss: 0.0052704705270186355\n",
      "Epoch 10\n",
      "Mean train loss: 0.0004438773746817158, val loss: 0.005753810900317218\n"
     ]
    }
   ],
   "source": [
    "trainer.run()"
   ]
  },
  {
   "cell_type": "code",
   "execution_count": null,
   "id": "13872efd",
   "metadata": {},
   "outputs": [],
   "source": []
  }
 ],
 "metadata": {
  "kernelspec": {
   "display_name": "Python 3",
   "language": "python",
   "name": "python3"
  },
  "language_info": {
   "codemirror_mode": {
    "name": "ipython",
    "version": 3
   },
   "file_extension": ".py",
   "mimetype": "text/x-python",
   "name": "python",
   "nbconvert_exporter": "python",
   "pygments_lexer": "ipython3",
   "version": "3.9.2"
  }
 },
 "nbformat": 4,
 "nbformat_minor": 5
}
